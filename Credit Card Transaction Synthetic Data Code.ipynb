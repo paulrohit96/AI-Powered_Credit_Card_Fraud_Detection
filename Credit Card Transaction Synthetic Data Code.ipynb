{
  "nbformat": 4,
  "nbformat_minor": 0,
  "metadata": {
    "colab": {
      "provenance": []
    },
    "kernelspec": {
      "name": "python3",
      "display_name": "Python 3"
    },
    "language_info": {
      "name": "python"
    }
  },
  "cells": [
    {
      "cell_type": "code",
      "execution_count": 1,
      "metadata": {
        "colab": {
          "base_uri": "https://localhost:8080/"
        },
        "id": "0CkU2NRxZEHD",
        "outputId": "83ef1b6c-342a-496a-e0e5-76bcf84406b9"
      },
      "outputs": [
        {
          "output_type": "stream",
          "name": "stdout",
          "text": [
            "Requirement already satisfied: pandas in /usr/local/lib/python3.11/dist-packages (2.2.2)\n",
            "Requirement already satisfied: faker in /usr/local/lib/python3.11/dist-packages (37.0.0)\n",
            "Requirement already satisfied: geopy in /usr/local/lib/python3.11/dist-packages (2.4.1)\n",
            "Requirement already satisfied: numpy>=1.23.2 in /usr/local/lib/python3.11/dist-packages (from pandas) (1.26.4)\n",
            "Requirement already satisfied: python-dateutil>=2.8.2 in /usr/local/lib/python3.11/dist-packages (from pandas) (2.8.2)\n",
            "Requirement already satisfied: pytz>=2020.1 in /usr/local/lib/python3.11/dist-packages (from pandas) (2025.1)\n",
            "Requirement already satisfied: tzdata>=2022.7 in /usr/local/lib/python3.11/dist-packages (from pandas) (2025.1)\n",
            "Requirement already satisfied: geographiclib<3,>=1.52 in /usr/local/lib/python3.11/dist-packages (from geopy) (2.0)\n",
            "Requirement already satisfied: six>=1.5 in /usr/local/lib/python3.11/dist-packages (from python-dateutil>=2.8.2->pandas) (1.17.0)\n"
          ]
        }
      ],
      "source": [
        "pip install pandas faker geopy"
      ]
    },
    {
      "cell_type": "code",
      "source": [
        "import pandas as pd\n",
        "import random\n",
        "from faker import Faker\n",
        "from datetime import datetime, timedelta\n",
        "from geopy.distance import geodesic  # For accurate geographic distance calculation\n",
        "\n",
        "# Initialize Faker for generating synthetic data\n",
        "fake = Faker()\n",
        "\n",
        "# Customer profiles\n",
        "customer_profiles = {\n",
        "    1001: {\"avg_amount\": 100, \"location\": \"New York\", \"merchant_categories\": [\"Retail\", \"Food & Beverage\"], \"typical_transaction_times\": [\"09:00-18:00\"], \"chargeback_history\": 0},\n",
        "    1002: {\"avg_amount\": 50, \"location\": \"Chicago\", \"merchant_categories\": [\"Retail\", \"Transportation\"], \"typical_transaction_times\": [\"07:00-20:00\"], \"chargeback_history\": 1},\n",
        "    1003: {\"avg_amount\": 200, \"location\": \"Los Angeles\", \"merchant_categories\": [\"Shopping\", \"Food & Beverage\"], \"typical_transaction_times\": [\"10:00-22:00\"], \"chargeback_history\": 2},\n",
        "    1004: {\"avg_amount\": 150, \"location\": \"Houston\", \"merchant_categories\": [\"Retail\", \"Shopping\"], \"typical_transaction_times\": [\"08:00-19:00\"], \"chargeback_history\": 0},\n",
        "    1005: {\"avg_amount\": 75, \"location\": \"Miami\", \"merchant_categories\": [\"Food & Beverage\", \"Transportation\"], \"typical_transaction_times\": [\"12:00-23:00\"], \"chargeback_history\": 1},\n",
        "}\n",
        "\n",
        "# Merchant categories\n",
        "merchant_categories = [\"Retail\", \"Food & Beverage\", \"Shopping\", \"Transportation\", \"Online\"]\n",
        "\n",
        "# Geographic distance threshold (in miles) for anomaly detection\n",
        "GEO_DISTANCE_THRESHOLD = 500  # Example: 500 miles\n",
        "\n",
        "# City coordinates (latitude, longitude) for distance calculation\n",
        "city_coordinates = {\n",
        "    \"New York\": (40.7128, -74.0060),\n",
        "    \"Chicago\": (41.8781, -87.6298),\n",
        "    \"Los Angeles\": (34.0522, -118.2437),\n",
        "    \"Houston\": (29.7604, -95.3698),\n",
        "    \"Miami\": (25.7617, -80.1918),\n",
        "}\n",
        "\n",
        "# Function to calculate distance between two cities using geopy\n",
        "def calculate_distance(city1, city2):\n",
        "    if city1 in city_coordinates and city2 in city_coordinates:\n",
        "        return geodesic(city_coordinates[city1], city_coordinates[city2]).miles\n",
        "    return 0  # Default to 0 if city coordinates are not found\n",
        "\n",
        "# Generate synthetic transaction data\n",
        "data = []\n",
        "num_transactions = 10000  # Number of transactions to generate\n",
        "\n",
        "for i in range(1, num_transactions + 1):\n",
        "    transaction_id = i\n",
        "    customer_id = random.choice(list(customer_profiles.keys()))\n",
        "    customer_profile = customer_profiles[customer_id]\n",
        "\n",
        "    # Generate transaction date and time\n",
        "    transaction_date = fake.date_time_between(start_date='-30d', end_date='now')\n",
        "    transaction_time = transaction_date.time()\n",
        "\n",
        "    # Generate transaction amount based on customer's average amount\n",
        "    avg_amount = customer_profile[\"avg_amount\"]\n",
        "    transaction_amount = round(random.uniform(0.5 * avg_amount, 1.5 * avg_amount), 2)\n",
        "\n",
        "    # Generate merchant details\n",
        "    merchant_name = fake.company()\n",
        "    merchant_category = random.choice(merchant_categories)\n",
        "\n",
        "    # Generate transaction location (10% chance of being in a different city)\n",
        "    if random.random() < 0.1:\n",
        "        transaction_location = fake.city()\n",
        "    else:\n",
        "        transaction_location = customer_profile[\"location\"]\n",
        "\n",
        "    # Initialize fraud flag\n",
        "    fraud_flag = 0\n",
        "\n",
        "    # Rule 1: Transaction amount is unusually high\n",
        "    if transaction_amount > 3 * avg_amount:\n",
        "        fraud_flag = 1\n",
        "\n",
        "    # Rule 2: Transaction location is far from the customer's typical location\n",
        "    if transaction_location != customer_profile[\"location\"]:\n",
        "        distance = calculate_distance(transaction_location, customer_profile[\"location\"])\n",
        "        if distance > GEO_DISTANCE_THRESHOLD:\n",
        "            fraud_flag = 1\n",
        "\n",
        "    # Rule 3: Merchant category is unusual for the customer\n",
        "    if merchant_category not in customer_profile[\"merchant_categories\"]:\n",
        "        fraud_flag = 1\n",
        "\n",
        "    # Rule 4: Too many transactions in a short time (high-frequency transactions)\n",
        "    recent_transactions = [t for t in data if t[1] == customer_id and (transaction_date - t[2]).total_seconds() < 3600]  # Last hour\n",
        "    if len(recent_transactions) > 5:\n",
        "        fraud_flag = 1\n",
        "\n",
        "    # Rule 5: Transaction time is unusual for the customer\n",
        "    typical_times = customer_profile[\"typical_transaction_times\"]\n",
        "    is_typical_time = False\n",
        "    for time_range in typical_times:\n",
        "        start, end = time_range.split('-')\n",
        "        start_time = datetime.strptime(start, \"%H:%M\").time()\n",
        "        end_time = datetime.strptime(end, \"%H:%M\").time()\n",
        "        if start_time <= transaction_time <= end_time:\n",
        "            is_typical_time = True\n",
        "            break\n",
        "    if not is_typical_time:\n",
        "        fraud_flag = 1\n",
        "\n",
        "    # Rule 6: Customer has a history of chargebacks\n",
        "    if customer_profile[\"chargeback_history\"] > 0:\n",
        "        fraud_flag = 1 if random.random() < 0.3 else 0\n",
        "\n",
        "    # Append transaction to data\n",
        "    data.append([transaction_id, customer_id, transaction_date, transaction_amount, merchant_name, merchant_category, transaction_location, fraud_flag])\n",
        "\n",
        "# Convert data to DataFrame\n",
        "df = pd.DataFrame(data, columns=[\"Transaction_ID\", \"Customer_ID\", \"Transaction_Date\", \"Transaction_Amount\", \"Merchant_Name\", \"Merchant_Category\", \"Transaction_Location\", \"Fraud_Flag\"])\n",
        "\n",
        "# Save data to CSV\n",
        "df.to_csv(\"realistic_credit_card_transactions.csv\", index=False)\n",
        "\n",
        "print(\"Synthetic credit card transaction data generated and saved to 'realistic_credit_card_transactions.csv'.\")"
      ],
      "metadata": {
        "colab": {
          "base_uri": "https://localhost:8080/"
        },
        "id": "5ZtO274DZGv_",
        "outputId": "39d965c2-afbc-4f01-da34-b25ef500c54b"
      },
      "execution_count": 2,
      "outputs": [
        {
          "output_type": "stream",
          "name": "stdout",
          "text": [
            "Synthetic credit card transaction data generated and saved to 'realistic_credit_card_transactions.csv'.\n"
          ]
        }
      ]
    }
  ]
}