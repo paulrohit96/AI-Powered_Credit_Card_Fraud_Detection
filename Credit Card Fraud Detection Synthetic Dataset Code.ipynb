{
  "nbformat": 4,
  "nbformat_minor": 0,
  "metadata": {
    "colab": {
      "provenance": []
    },
    "kernelspec": {
      "name": "python3",
      "display_name": "Python 3"
    },
    "language_info": {
      "name": "python"
    }
  },
  "cells": [
    {
      "cell_type": "code",
      "source": [
        "!pip install faker"
      ],
      "metadata": {
        "colab": {
          "base_uri": "https://localhost:8080/"
        },
        "id": "bVd-gg8a9Oe1",
        "outputId": "dcaa74cb-a3be-4862-94a2-d7b81fc722f4"
      },
      "execution_count": 1,
      "outputs": [
        {
          "output_type": "stream",
          "name": "stdout",
          "text": [
            "Collecting faker\n",
            "  Downloading faker-36.2.2-py3-none-any.whl.metadata (15 kB)\n",
            "Requirement already satisfied: tzdata in /usr/local/lib/python3.11/dist-packages (from faker) (2025.1)\n",
            "Downloading faker-36.2.2-py3-none-any.whl (1.9 MB)\n",
            "\u001b[?25l   \u001b[90m━━━━━━━━━━━━━━━━━━━━━━━━━━━━━━━━━━━━━━━━\u001b[0m \u001b[32m0.0/1.9 MB\u001b[0m \u001b[31m?\u001b[0m eta \u001b[36m-:--:--\u001b[0m\r\u001b[2K   \u001b[91m━━━━━━━━━━━━━━━━━━━━━━━━━━━━\u001b[0m\u001b[90m╺\u001b[0m\u001b[90m━━━━━━━━━━━\u001b[0m \u001b[32m1.4/1.9 MB\u001b[0m \u001b[31m39.1 MB/s\u001b[0m eta \u001b[36m0:00:01\u001b[0m\r\u001b[2K   \u001b[91m━━━━━━━━━━━━━━━━━━━━━━━━━━━━━━━━━━━━━━━\u001b[0m\u001b[91m╸\u001b[0m \u001b[32m1.9/1.9 MB\u001b[0m \u001b[31m37.8 MB/s\u001b[0m eta \u001b[36m0:00:01\u001b[0m\r\u001b[2K   \u001b[90m━━━━━━━━━━━━━━━━━━━━━━━━━━━━━━━━━━━━━━━━\u001b[0m \u001b[32m1.9/1.9 MB\u001b[0m \u001b[31m24.2 MB/s\u001b[0m eta \u001b[36m0:00:00\u001b[0m\n",
            "\u001b[?25hInstalling collected packages: faker\n",
            "Successfully installed faker-36.2.2\n"
          ]
        }
      ]
    },
    {
      "cell_type": "code",
      "execution_count": 2,
      "metadata": {
        "colab": {
          "base_uri": "https://localhost:8080/"
        },
        "id": "ddwGUuVQ8wVh",
        "outputId": "813fda4e-07c3-4d91-bd82-35bac4287f79"
      },
      "outputs": [
        {
          "output_type": "stream",
          "name": "stdout",
          "text": [
            "Synthetic credit card transaction data generated and saved to 'realistic_credit_card_transactions.csv'.\n"
          ]
        }
      ],
      "source": [
        "import pandas as pd\n",
        "import random\n",
        "from faker import Faker\n",
        "from datetime import datetime, timedelta\n",
        "import numpy as np\n",
        "\n",
        "# Initialize Faker\n",
        "fake = Faker()\n",
        "\n",
        "# Define customer profiles (typical behavior for each customer)\n",
        "customer_profiles = {\n",
        "    1001: {\"avg_amount\": 100, \"location\": \"New York\", \"merchant_categories\": [\"Retail\", \"Food & Beverage\"], \"typical_transaction_times\": [\"09:00-18:00\"], \"chargeback_history\": 0},\n",
        "    1002: {\"avg_amount\": 50, \"location\": \"Chicago\", \"merchant_categories\": [\"Retail\", \"Transportation\"], \"typical_transaction_times\": [\"07:00-20:00\"], \"chargeback_history\": 1},\n",
        "    1003: {\"avg_amount\": 200, \"location\": \"Los Angeles\", \"merchant_categories\": [\"Shopping\", \"Food & Beverage\"], \"typical_transaction_times\": [\"10:00-22:00\"], \"chargeback_history\": 2},\n",
        "    1004: {\"avg_amount\": 150, \"location\": \"Houston\", \"merchant_categories\": [\"Retail\", \"Shopping\"], \"typical_transaction_times\": [\"08:00-19:00\"], \"chargeback_history\": 0},\n",
        "    1005: {\"avg_amount\": 75, \"location\": \"Miami\", \"merchant_categories\": [\"Food & Beverage\", \"Transportation\"], \"typical_transaction_times\": [\"12:00-23:00\"], \"chargeback_history\": 1},\n",
        "}\n",
        "\n",
        "# Define merchant categories\n",
        "merchant_categories = [\"Retail\", \"Food & Beverage\", \"Shopping\", \"Transportation\", \"Online\"]\n",
        "\n",
        "# Generate synthetic data\n",
        "data = []\n",
        "num_transactions = 100000  # Number of transactions to generate\n",
        "\n",
        "for i in range(1, num_transactions + 1):\n",
        "    transaction_id = i\n",
        "    customer_id = random.choice(list(customer_profiles.keys()))\n",
        "    customer_profile = customer_profiles[customer_id]\n",
        "\n",
        "    # Generate transaction date and time\n",
        "    transaction_date = fake.date_time_between(start_date='-30d', end_date='now')\n",
        "    transaction_time = transaction_date.time()\n",
        "\n",
        "    # Generate transaction amount based on customer profile\n",
        "    avg_amount = customer_profile[\"avg_amount\"]\n",
        "    transaction_amount = round(random.uniform(0.5 * avg_amount, 1.5 * avg_amount), 2)\n",
        "\n",
        "    # Generate merchant name and category\n",
        "    merchant_name = fake.company()\n",
        "    merchant_category = random.choice(merchant_categories)\n",
        "\n",
        "    # Generate transaction location (sometimes deviate from customer's typical location)\n",
        "    if random.random() < 0.1:  # 10% chance of geographic anomaly\n",
        "        transaction_location = fake.city()\n",
        "    else:\n",
        "        transaction_location = customer_profile[\"location\"]\n",
        "\n",
        "    # Determine fraud based on rules\n",
        "    fraud_flag = 0  # Default to legitimate transaction\n",
        "\n",
        "    # Rule 1: Unusually high transaction amount\n",
        "    if transaction_amount > 3 * avg_amount:\n",
        "        fraud_flag = 1\n",
        "\n",
        "    # Rule 2: Geographic anomaly\n",
        "    if transaction_location != customer_profile[\"location\"]:\n",
        "        fraud_flag = 1\n",
        "\n",
        "    # Rule 3: Unusual merchant category\n",
        "    if merchant_category not in customer_profile[\"merchant_categories\"]:\n",
        "        fraud_flag = 1\n",
        "\n",
        "    # Rule 4: High-frequency transactions (simulate by checking recent transactions)\n",
        "    recent_transactions = [t for t in data if t[1] == customer_id and (transaction_date - t[2]).total_seconds() < 3600]  # Last hour\n",
        "    if len(recent_transactions) > 5:  # More than 5 transactions in the last hour\n",
        "        fraud_flag = 1\n",
        "\n",
        "    # Rule 5: Unusual time of day\n",
        "    typical_times = customer_profile[\"typical_transaction_times\"]\n",
        "    is_typical_time = False\n",
        "    for time_range in typical_times:\n",
        "        start, end = time_range.split('-')\n",
        "        start_time = datetime.strptime(start, \"%H:%M\").time()\n",
        "        end_time = datetime.strptime(end, \"%H:%M\").time()\n",
        "        if start_time <= transaction_time <= end_time:\n",
        "            is_typical_time = True\n",
        "            break\n",
        "    if not is_typical_time:\n",
        "        fraud_flag = 1\n",
        "\n",
        "    # Rule 6: Chargeback history\n",
        "    if customer_profile[\"chargeback_history\"] > 0:\n",
        "        fraud_flag = 1 if random.random() < 0.3 else 0  # 30% chance of fraud if chargeback history exists\n",
        "\n",
        "    # Append transaction to data\n",
        "    data.append([transaction_id, customer_id, transaction_date, transaction_amount, merchant_name, merchant_category, transaction_location, fraud_flag])\n",
        "\n",
        "# Create DataFrame\n",
        "df = pd.DataFrame(data, columns=[\"Transaction_ID\", \"Customer_ID\", \"Transaction_Date\", \"Transaction_Amount\", \"Merchant_Name\", \"Merchant_Category\", \"Transaction_Location\", \"Fraud_Flag\"])\n",
        "\n",
        "# Save to CSV\n",
        "df.to_csv(\"realistic_credit_card_transactions.csv\", index=False)\n",
        "\n",
        "print(\"Synthetic credit card transaction data generated and saved to 'realistic_credit_card_transactions.csv'.\")"
      ]
    }
  ]
}